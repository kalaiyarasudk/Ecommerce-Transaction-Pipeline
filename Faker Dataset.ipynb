{
 "cells": [
  {
   "cell_type": "code",
   "execution_count": 0,
   "metadata": {
    "application/vnd.databricks.v1+cell": {
     "cellMetadata": {
      "byteLimit": 2048000,
      "rowLimit": 10000
     },
     "inputWidgets": {},
     "nuid": "408f5b30-e70d-473a-88f5-459445f06142",
     "showTitle": false,
     "tableResultSettingsMap": {},
     "title": ""
    }
   },
   "outputs": [
    {
     "output_type": "stream",
     "name": "stdout",
     "output_type": "stream",
     "text": [
      "Collecting faker\n  Downloading faker-37.6.0-py3-none-any.whl.metadata (15 kB)\nRequirement already satisfied: tzdata in /databricks/python3/lib/python3.12/site-packages (from faker) (2024.1)\nDownloading faker-37.6.0-py3-none-any.whl (1.9 MB)\n\u001B[?25l   \u001B[90m━━━━━━━━━━━━━━━━━━━━━━━━━━━━━━━━━━━━━━━━\u001B[0m \u001B[32m0.0/1.9 MB\u001B[0m \u001B[31m?\u001B[0m eta \u001B[36m-:--:--\u001B[0m\r\u001B[2K   \u001B[91m━━━━━━━━━━━━━━━━━━━━━━━━━━\u001B[0m\u001B[91m╸\u001B[0m\u001B[90m━━━━━━━━━━━━━\u001B[0m \u001B[32m1.3/1.9 MB\u001B[0m \u001B[31m7.1 MB/s\u001B[0m eta \u001B[36m0:00:01\u001B[0m\r\u001B[2K   \u001B[90m━━━━━━━━━━━━━━━━━━━━━━━━━━━━━━━━━━━━━━━━\u001B[0m \u001B[32m1.9/1.9 MB\u001B[0m \u001B[31m8.0 MB/s\u001B[0m eta \u001B[36m0:00:00\u001B[0m\n\u001B[?25hInstalling collected packages: faker\nSuccessfully installed faker-37.6.0\n\u001B[43mNote: you may need to restart the kernel using %restart_python or dbutils.library.restartPython() to use updated packages.\u001B[0m\nRequirement already satisfied: pandas in /databricks/python3/lib/python3.12/site-packages (1.5.3)\nRequirement already satisfied: numpy>=1.21.0 in /databricks/python3/lib/python3.12/site-packages (from pandas) (1.26.4)\nRequirement already satisfied: python-dateutil>=2.8.1 in /databricks/python3/lib/python3.12/site-packages (from pandas) (2.9.0.post0)\nRequirement already satisfied: pytz>=2020.1 in /databricks/python3/lib/python3.12/site-packages (from pandas) (2024.1)\nRequirement already satisfied: six>=1.5 in /usr/lib/python3/dist-packages (from python-dateutil>=2.8.1->pandas) (1.16.0)\n\u001B[43mNote: you may need to restart the kernel using %restart_python or dbutils.library.restartPython() to use updated packages.\u001B[0m\n"
     ]
    }
   ],
   "source": [
    "%run \"/Workspace/Users/kalaiyarasud2108@gmail.com/Requirements\""
   ]
  },
  {
   "cell_type": "code",
   "execution_count": 0,
   "metadata": {
    "application/vnd.databricks.v1+cell": {
     "cellMetadata": {
      "byteLimit": 2048000,
      "rowLimit": 10000
     },
     "inputWidgets": {},
     "nuid": "f6af5ee7-0aa8-47e7-98af-13f8789ec8df",
     "showTitle": false,
     "tableResultSettingsMap": {},
     "title": ""
    }
   },
   "outputs": [
    {
     "output_type": "execute_result",
     "data": {
      "text/plain": [
       "(                         transaction_id  ...   status\n",
       " 0  de893b5a-de36-4e6e-bb13-bcc0aaf9ea0a  ...  SUCCESS\n",
       " 1  58882952-5e40-487a-9cdd-4436fdc58a3d  ...  SUCCESS\n",
       " 2  91643957-c8db-4a6f-839f-cd4bbf0d37e0  ...  SUCCESS\n",
       " 3  5e9921dd-9ddc-4594-a4ad-b347bc6bc2ae  ...  SUCCESS\n",
       " 4  27928c75-d135-4f0c-9b2a-b245095b38c1  ...  SUCCESS\n",
       " \n",
       " [5 rows x 7 columns],\n",
       "    customer_id      customer_name                             email region\n",
       " 0         1000      Carlos Graham           brendawells@example.org   West\n",
       " 1         1001        John Crosby              vhoffman@example.com  North\n",
       " 2         1002        Kevin Nunez              mleonard@example.com   West\n",
       " 3         1003  Katherine Collins  hendrickschristopher@example.com  South\n",
       " 4         1004          Paul Hill        jeremiahnelson@example.org  South,\n",
       "    product_id product_name     category    price\n",
       " 0         500        Which  Electronics  1939.70\n",
       " 1         501      Hundred  Electronics   652.52\n",
       " 2         502      Serious     Clothing  1490.68\n",
       " 3         503       Region       Sports  1551.11\n",
       " 4         504         Side       Sports   699.94,\n",
       " ('/Volumes/workspace/e-commerce_dataset/ecommerce_dataset/transactions_dataset.csv',\n",
       "  '/Volumes/workspace/e-commerce_dataset/ecommerce_dataset/customers_dataset.csv',\n",
       "  '/Volumes/workspace/e-commerce_dataset/ecommerce_dataset/customers_dataset.csv'))"
      ]
     },
     "execution_count": 8,
     "metadata": {},
     "output_type": "execute_result"
    }
   ],
   "source": [
    "from faker import Faker\n",
    "import pandas as pd\n",
    "import random\n",
    "\n",
    "fake = Faker()\n",
    "\n",
    "# ------------------------\n",
    "# Configurations\n",
    "# ------------------------\n",
    "num_transactions = 10000\n",
    "num_customers = 500\n",
    "num_products = 200\n",
    "\n",
    "# ------------------------\n",
    "# Generate Customers dataset\n",
    "# ------------------------\n",
    "customers = []\n",
    "regions = [\"North\", \"South\", \"East\", \"West\"]\n",
    "for cid in range(1000, 1000 + num_customers):\n",
    "    customers.append({\n",
    "        \"customer_id\": cid,\n",
    "        \"customer_name\": fake.name(),\n",
    "        \"email\": fake.email(),\n",
    "        \"region\": random.choice(regions)\n",
    "    })\n",
    "customers_df = pd.DataFrame(customers)\n",
    "\n",
    "# ------------------------\n",
    "# Generate Products dataset\n",
    "# ------------------------\n",
    "categories = [\"Electronics\", \"Clothing\", \"Home\", \"Books\", \"Sports\"]\n",
    "products = []\n",
    "for pid in range(500, 500 + num_products):\n",
    "    products.append({\n",
    "        \"product_id\": pid,\n",
    "        \"product_name\": fake.word().capitalize(),\n",
    "        \"category\": random.choice(categories),\n",
    "        \"price\": round(random.uniform(5, 2000), 2)\n",
    "    })\n",
    "products_df = pd.DataFrame(products)\n",
    "\n",
    "# ------------------------\n",
    "# Generate Transactions dataset\n",
    "# ------------------------\n",
    "payment_types = [\"CREDIT_CARD\", \"DEBIT_CARD\", \"UPI\", \"NET_BANKING\", \"WALLET\"]\n",
    "payment_aliases = {\n",
    "    \"CREDIT_CARD\": [\"CC\", \"CreditCard\", \"credit\", \"CREDIT_CARD\"],\n",
    "    \"DEBIT_CARD\": [\"DC\", \"DebitCard\", \"debit\", \"DEBIT_CARD\"],\n",
    "    \"UPI\": [\"upi\", \"UPI\", \"Upi\"],\n",
    "    \"NET_BANKING\": [\"netbanking\", \"NetBanking\", \"NET_BANKING\"],\n",
    "    \"WALLET\": [\"wallet\", \"WALLET\", \"Wallet\"]\n",
    "}\n",
    "statuses = [\"SUCCESS\", \"FAILED\", \"FRAUD\"]\n",
    "\n",
    "transactions = []\n",
    "for _ in range(num_transactions):\n",
    "    status = random.choices(statuses, weights=[0.8, 0.15, 0.05])[0]\n",
    "    payment_type = random.choice(payment_aliases[random.choice(payment_types)])\n",
    "    transactions.append({\n",
    "        \"transaction_id\": fake.uuid4(),\n",
    "        \"customer_id\": random.choice(customers_df[\"customer_id\"].tolist()),\n",
    "        \"product_id\": random.choice(products_df[\"product_id\"].tolist()),\n",
    "        \"amount\": round(random.uniform(10, 1000), 2),\n",
    "        \"payment_type\": payment_type,\n",
    "        \"transaction_time\": fake.date_time_this_year().isoformat(),\n",
    "        \"status\": status\n",
    "    })\n",
    "transactions_df = pd.DataFrame(transactions)\n",
    "\n",
    "# ------------------------\n",
    "# Save datasets\n",
    "# ------------------------\n",
    "transactions_path = \"/Volumes/workspace/e-commerce_dataset/ecommerce_dataset/transactions_dataset.csv\"\n",
    "customers_path = \"/Volumes/workspace/e-commerce_dataset/ecommerce_dataset/customers_dataset.csv\"\n",
    "products_path = \"/Volumes/workspace/e-commerce_dataset/ecommerce_dataset/customers_dataset.csv\"\n",
    "\n",
    "transactions_df.to_csv(transactions_path, index=False)\n",
    "customers_df.to_csv(customers_path, index=False)\n",
    "products_df.to_csv(products_path, index=False)\n",
    "\n",
    "transactions_df.head(5), customers_df.head(5), products_df.head(5), (transactions_path, customers_path, products_path)"
   ]
  },
  {
   "cell_type": "code",
   "execution_count": 0,
   "metadata": {
    "application/vnd.databricks.v1+cell": {
     "cellMetadata": {},
     "inputWidgets": {},
     "nuid": "4b16c839-58ab-4b51-9149-f7809c872c1d",
     "showTitle": false,
     "tableResultSettingsMap": {},
     "title": ""
    }
   },
   "outputs": [],
   "source": []
  }
 ],
 "metadata": {
  "application/vnd.databricks.v1+notebook": {
   "computePreferences": null,
   "dashboards": [],
   "environmentMetadata": {
    "base_environment": "",
    "environment_version": "3"
   },
   "inputWidgetPreferences": null,
   "language": "python",
   "notebookMetadata": {
    "pythonIndentUnit": 4
   },
   "notebookName": "Faker Dataset",
   "widgets": {}
  },
  "language_info": {
   "name": "python"
  }
 },
 "nbformat": 4,
 "nbformat_minor": 0
}