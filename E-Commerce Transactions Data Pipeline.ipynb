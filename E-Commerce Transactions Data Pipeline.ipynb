{
 "cells": [
  {
   "cell_type": "code",
   "execution_count": 0,
   "metadata": {
    "application/vnd.databricks.v1+cell": {
     "cellMetadata": {
      "byteLimit": 2048000,
      "rowLimit": 10000
     },
     "inputWidgets": {},
     "nuid": "f88da14f-a224-4918-9a7c-d2ff9ac6e35e",
     "showTitle": false,
     "tableResultSettingsMap": {},
     "title": ""
    }
   },
   "outputs": [
    {
     "output_type": "stream",
     "name": "stdout",
     "output_type": "stream",
     "text": [
      "product Dataset\n+----------+------------+--------+------+\n|product_id|product_name|category| price|\n+----------+------------+--------+------+\n|       500|       Dream|Clothing|479.56|\n|       501|        Wall|Clothing|296.92|\n|       502|     Service|    Home|803.57|\n|       503|         All|Clothing|968.25|\n|       504|   Executive|   Books|977.36|\n+----------+------------+--------+------+\nonly showing top 5 rows\nTrasncation Dataset\n+--------------------+-----------+----------+------+------------+-------------------+-------+\n|      transaction_id|customer_id|product_id|amount|payment_type|   transaction_time| status|\n+--------------------+-----------+----------+------+------------+-------------------+-------+\n|cf38974e-3bf8-474...|       1272|       545|119.67|          CC|2025-02-13 07:50:23|SUCCESS|\n|8e5c41e5-0d65-438...|       1055|       608| 672.2|      wallet|2025-06-16 01:13:46|SUCCESS|\n|84198714-05c0-43e...|       1164|       697|536.45|  NetBanking|2025-08-07 18:37:12| FAILED|\n|db41697f-a3fa-446...|       1457|       655|568.77|  DEBIT_CARD|2025-06-29 07:29:32|SUCCESS|\n|5e9c3e4a-b2ce-458...|       1081|       616|665.65|  CreditCard|2025-08-14 02:44:39|SUCCESS|\n+--------------------+-----------+----------+------+------------+-------------------+-------+\nonly showing top 5 rows\nCustomer Dataset\n+-----------+----------------+--------------------+------+\n|customer_id|   customer_name|               email|region|\n+-----------+----------------+--------------------+------+\n|       1000|   Anthony Lucas|valerie74@example...|  West|\n|       1001|      Scott Ward|  ryan59@example.org|  West|\n|       1002|    Shannon Rush|josephclark@examp...| South|\n|       1003|Michael Ferguson|ygilmore@example.org|  West|\n|       1004| Timothy Sanchez|rachel45@example.org|  East|\n+-----------+----------------+--------------------+------+\nonly showing top 5 rows\n"
     ]
    }
   ],
   "source": [
    "from pyspark.sql import SparkSession\n",
    "from pyspark.sql.types import *\n",
    "from pyspark.sql.functions import *\n",
    "\n",
    "spark = SparkSession.builder.appName(\"Ecommerce\").getOrCreate()\n",
    "\n",
    "customer_path = '/Volumes/workspace/e-commerce_dataset/ecommerce_dataset/customers_dataset.csv'\n",
    "product_path = '/Volumes/workspace/e-commerce_dataset/ecommerce_dataset/products_dataset.csv'\n",
    "transcation_path = '/Volumes/workspace/e-commerce_dataset/ecommerce_dataset/transactions_dataset.csv'\n",
    "\n",
    "customer_df = spark.read.csv(customer_path, header=True, inferSchema=True)\n",
    "product_df = spark.read.csv(product_path, header=True, inferSchema=True)\n",
    "transcation_df = spark.read.csv(transcation_path, header=True, inferSchema=True)\n",
    "\n",
    "print(\"product Dataset\")\n",
    "product_df.show(5)\n",
    "print(\"Trasncation Dataset\")\n",
    "transcation_df.show(5)\n",
    "print(\"Customer Dataset\")\n",
    "customer_df.show(5)"
   ]
  },
  {
   "cell_type": "code",
   "execution_count": 0,
   "metadata": {
    "application/vnd.databricks.v1+cell": {
     "cellMetadata": {
      "byteLimit": 2048000,
      "rowLimit": 10000
     },
     "inputWidgets": {},
     "nuid": "b4e054f1-ea51-45c4-9f37-5a613665f9d6",
     "showTitle": false,
     "tableResultSettingsMap": {},
     "title": ""
    }
   },
   "outputs": [
    {
     "output_type": "stream",
     "name": "stdout",
     "output_type": "stream",
     "text": [
      "+--------------------+-----------+----------+------+------------+-------------------+-------+----------------+\n|      transaction_id|customer_id|product_id|amount|payment_type|   transaction_time| status|Transcation_date|\n+--------------------+-----------+----------+------+------------+-------------------+-------+----------------+\n|cf38974e-3bf8-474...|       1272|       545|119.67|          CC|2025-02-13 07:50:23|SUCCESS|      2025-02-13|\n|8e5c41e5-0d65-438...|       1055|       608| 672.2|      wallet|2025-06-16 01:13:46|SUCCESS|      2025-06-16|\n|84198714-05c0-43e...|       1164|       697|536.45|  NetBanking|2025-08-07 18:37:12| FAILED|      2025-08-07|\n|db41697f-a3fa-446...|       1457|       655|568.77|  DEBIT_CARD|2025-06-29 07:29:32|SUCCESS|      2025-06-29|\n|5e9c3e4a-b2ce-458...|       1081|       616|665.65|  CreditCard|2025-08-14 02:44:39|SUCCESS|      2025-08-14|\n+--------------------+-----------+----------+------+------------+-------------------+-------+----------------+\nonly showing top 5 rows\nEnriched data\n+--------------------+-----------+----------+------+-------------------+----------------+-------------+-------+\n|      transaction_id|customer_id|product_id|amount|   transaction_time|Transcation_date|Payment_Types| status|\n+--------------------+-----------+----------+------+-------------------+----------------+-------------+-------+\n|dbfcbcb9-389d-49e...|       1046|       508|160.04|2025-04-25 06:54:17|      2025-04-25|       WALLET|SUCCESS|\n|1e4e0c6e-7bec-45e...|       1089|       681|130.79|2025-05-15 23:51:18|      2025-05-15|  CREDIT CARD|SUCCESS|\n|8d463994-57ef-46a...|       1310|       636|480.07|2025-07-18 06:40:46|      2025-07-18|       WALLET|SUCCESS|\n|abfa8c56-951e-47c...|       1178|       510| 47.24|2025-06-23 15:31:59|      2025-06-23|       WALLET|  FRAUD|\n|cf7403ee-02ac-410...|       1425|       516| 83.98|2025-03-28 00:29:48|      2025-03-28|  CREDIT CARD|SUCCESS|\n+--------------------+-----------+----------+------+-------------------+----------------+-------------+-------+\nonly showing top 5 rows\n"
     ]
    }
   ],
   "source": [
    "transcation_dataenrich = transcation_df.withColumn(\"Transcation_date\", to_date(col(\"transaction_time\"))) \\\n",
    "                            .withColumn(\"amount\", col(\"amount\").cast(DoubleType()))\n",
    "                                \n",
    "enriched_data = (\n",
    "    transcation_dataenrich\n",
    "    .na.drop(subset=[\"transaction_id\", \"customer_id\", \"product_id\"])\n",
    "    .dropDuplicates([\"transaction_id\"])\n",
    "                                      \n",
    "                                        .withColumn(\"Payment_Types\", when(col(\"payment_type\").isin(\"CC\",\"CreditCard\",\"CREDIT_CARD\",\"cc\",\"credit\"), \"CREDIT CARD\"). \n",
    "                                                    when(col(\"payment_type\").isin('DC',\"debit\",\"DEBIT_CARD\",\"DebitCard\"), \"DEBIT CARD\").\n",
    "                                                    when(col(\"payment_type\").isin(\"NetBanking\",\"NET_BANKING\"), \"NET BANKING\").\n",
    "                                                    when(col(\"payment_type\").isin(\"WALLET\",\"wallet\"), \"WALLET\").\n",
    "                                                    when(col(\"payment_type\").isin(\"UPI\",\"Upi\"), \"UPI\").\n",
    "                                                    otherwise(\"CASH ON DELIVERY\"))).select(\"transaction_id\",\"customer_id\",\"product_id\",\"amount\",\"transaction_time\",\"Transcation_date\",\"Payment_Types\",\"status\")\n",
    "\n",
    "transcation_dataenrich.show(5)\n",
    "print(\"Enriched data\")\n",
    "enriched_data.show(5)\n",
    "                    "
   ]
  },
  {
   "cell_type": "code",
   "execution_count": 0,
   "metadata": {
    "application/vnd.databricks.v1+cell": {
     "cellMetadata": {
      "byteLimit": 2048000,
      "rowLimit": 10000
     },
     "inputWidgets": {},
     "nuid": "a9ce67c6-7c27-4cf6-a970-2d59bad788be",
     "showTitle": false,
     "tableResultSettingsMap": {},
     "title": ""
    }
   },
   "outputs": [
    {
     "output_type": "stream",
     "name": "stdout",
     "output_type": "stream",
     "text": [
      "+----------+-----------+--------------------+------+-------------------+----------------+-------------+-------+------------------+--------------------+------+------------+-----------+-------+\n|product_id|customer_id|      transaction_id|amount|   transaction_time|Transcation_date|Payment_Types| status|     customer_name|               email|region|product_name|   category|  price|\n+----------+-----------+--------------------+------+-------------------+----------------+-------------+-------+------------------+--------------------+------+------------+-----------+-------+\n|       508|       1046|dbfcbcb9-389d-49e...|160.04|2025-04-25 06:54:17|      2025-04-25|       WALLET|SUCCESS|    Brandy Ramirez|rogeralexander@ex...|  East|        Look|Electronics|1509.44|\n|       681|       1089|1e4e0c6e-7bec-45e...|130.79|2025-05-15 23:51:18|      2025-05-15|  CREDIT CARD|SUCCESS|       Shane White|andrewalexander@e...| South|         Gas|       Home|1791.78|\n|       636|       1310|8d463994-57ef-46a...|480.07|2025-07-18 06:40:46|      2025-07-18|       WALLET|SUCCESS|Courtney Porter MD|carrierandolph@ex...|  West|     Ability|Electronics|1130.71|\n|       510|       1178|abfa8c56-951e-47c...| 47.24|2025-06-23 15:31:59|      2025-06-23|       WALLET|  FRAUD|       Angel Burns|larrylee@example.org| South|      Record|   Clothing| 316.97|\n|       516|       1425|cf7403ee-02ac-410...| 83.98|2025-03-28 00:29:48|      2025-03-28|  CREDIT CARD|SUCCESS|     Tamara Hardin|markyoung@example...| North|      Spring|      Books| 282.68|\n+----------+-----------+--------------------+------+-------------------+----------------+-------------+-------+------------------+--------------------+------+------------+-----------+-------+\nonly showing top 5 rows\n"
     ]
    }
   ],
   "source": [
    "# joining the data\n",
    "fact_transactions = enriched_data.join(broadcast(customer_df),  on = \"customer_id\", how = \"inner\").join(broadcast(product_df), on = \"product_id\", how = \"inner\").selectExpr(\"*\")\n",
    "            \n",
    "\n",
    "fact_transactions.show(5)\n",
    "# DBTITLE 1 Write data to delta lake\n",
    "fact_transactions.write.format(\"delta\").mode(\"overwrite\").save(\"/Volumes/workspace/e-commerce_dataset/ecommerce_dataset/fact_transactions\")"
   ]
  },
  {
   "cell_type": "code",
   "execution_count": 0,
   "metadata": {
    "application/vnd.databricks.v1+cell": {
     "cellMetadata": {
      "byteLimit": 2048000,
      "implicitDf": true,
      "rowLimit": 10000
     },
     "inputWidgets": {},
     "nuid": "1b46ca0e-b5ce-4a89-b5d9-38783d2a1178",
     "showTitle": false,
     "tableResultSettingsMap": {},
     "title": ""
    }
   },
   "outputs": [
    {
     "output_type": "display_data",
     "data": {
      "text/html": [
       "<style scoped>\n",
       "  .table-result-container {\n",
       "    max-height: 300px;\n",
       "    overflow: auto;\n",
       "  }\n",
       "  table, th, td {\n",
       "    border: 1px solid black;\n",
       "    border-collapse: collapse;\n",
       "  }\n",
       "  th, td {\n",
       "    padding: 5px;\n",
       "  }\n",
       "  th {\n",
       "    text-align: left;\n",
       "  }\n",
       "</style><div class='table-result-container'><table class='table-result'><thead style='background-color: white'><tr><th>product_id</th><th>customer_id</th><th>transaction_id</th><th>amount</th><th>transaction_time</th><th>Transcation_date</th><th>Payment_Types</th><th>status</th><th>customer_name</th><th>email</th><th>region</th><th>product_name</th><th>category</th><th>price</th></tr></thead><tbody><tr><td>508</td><td>1046</td><td>dbfcbcb9-389d-49e8-9725-7f65a727b015</td><td>160.04</td><td>2025-04-25T06:54:17.000Z</td><td>2025-04-25</td><td>WALLET</td><td>SUCCESS</td><td>Brandy Ramirez</td><td>rogeralexander@example.org</td><td>East</td><td>Look</td><td>Electronics</td><td>1509.44</td></tr><tr><td>681</td><td>1089</td><td>1e4e0c6e-7bec-45ec-bb34-c3be8b5e5c9f</td><td>130.79</td><td>2025-05-15T23:51:18.000Z</td><td>2025-05-15</td><td>CREDIT CARD</td><td>SUCCESS</td><td>Shane White</td><td>andrewalexander@example.org</td><td>South</td><td>Gas</td><td>Home</td><td>1791.78</td></tr><tr><td>636</td><td>1310</td><td>8d463994-57ef-46a1-b838-e3090b15699e</td><td>480.07</td><td>2025-07-18T06:40:46.000Z</td><td>2025-07-18</td><td>WALLET</td><td>SUCCESS</td><td>Courtney Porter MD</td><td>carrierandolph@example.com</td><td>West</td><td>Ability</td><td>Electronics</td><td>1130.71</td></tr><tr><td>510</td><td>1178</td><td>abfa8c56-951e-47c0-a0ff-07fba2ca0375</td><td>47.24</td><td>2025-06-23T15:31:59.000Z</td><td>2025-06-23</td><td>WALLET</td><td>FRAUD</td><td>Angel Burns</td><td>larrylee@example.org</td><td>South</td><td>Record</td><td>Clothing</td><td>316.97</td></tr><tr><td>516</td><td>1425</td><td>cf7403ee-02ac-4109-9ed7-0abbc04449f4</td><td>83.98</td><td>2025-03-28T00:29:48.000Z</td><td>2025-03-28</td><td>CREDIT CARD</td><td>SUCCESS</td><td>Tamara Hardin</td><td>markyoung@example.net</td><td>North</td><td>Spring</td><td>Books</td><td>282.68</td></tr><tr><td>522</td><td>1054</td><td>1da5b8fd-21df-4076-b134-2e00ec4c2c2d</td><td>490.94</td><td>2025-07-24T19:46:22.000Z</td><td>2025-07-24</td><td>CREDIT CARD</td><td>SUCCESS</td><td>Chelsea Brown</td><td>scooley@example.com</td><td>South</td><td>Enter</td><td>Clothing</td><td>846.96</td></tr><tr><td>630</td><td>1236</td><td>b28a4475-6ca5-42c5-a26e-61408f7a0c4d</td><td>929.59</td><td>2025-01-18T19:10:55.000Z</td><td>2025-01-18</td><td>CREDIT CARD</td><td>FAILED</td><td>Andrew Rojas</td><td>danielconnor@example.org</td><td>South</td><td>Election</td><td>Electronics</td><td>1592.58</td></tr><tr><td>646</td><td>1231</td><td>38c445ec-c495-4199-bef9-942804f8bde6</td><td>242.63</td><td>2025-09-04T15:46:12.000Z</td><td>2025-09-04</td><td>NET BANKING</td><td>SUCCESS</td><td>Adam Young</td><td>jeffreysimon@example.org</td><td>East</td><td>Improve</td><td>Books</td><td>1516.61</td></tr><tr><td>563</td><td>1078</td><td>c1b3e587-e60a-491c-8697-d025c42c1674</td><td>212.97</td><td>2025-06-17T13:42:42.000Z</td><td>2025-06-17</td><td>DEBIT CARD</td><td>SUCCESS</td><td>Joseph Anderson</td><td>oaguilar@example.net</td><td>South</td><td>Car</td><td>Home</td><td>71.43</td></tr><tr><td>528</td><td>1176</td><td>be00a86f-a8ce-4965-83a9-c639761cbaaa</td><td>663.02</td><td>2025-07-17T07:55:19.000Z</td><td>2025-07-17</td><td>CREDIT CARD</td><td>FAILED</td><td>Franklin Kim</td><td>paynejennifer@example.net</td><td>South</td><td>Message</td><td>Clothing</td><td>1164.36</td></tr></tbody></table></div>"
      ]
     },
     "metadata": {
      "application/vnd.databricks.v1+output": {
       "addedWidgets": {},
       "aggData": [],
       "aggError": "",
       "aggOverflow": false,
       "aggSchema": [],
       "aggSeriesLimitReached": false,
       "aggType": "",
       "arguments": {},
       "columnCustomDisplayInfos": {},
       "data": [
        [
         508,
         1046,
         "dbfcbcb9-389d-49e8-9725-7f65a727b015",
         160.04,
         "2025-04-25T06:54:17.000Z",
         "2025-04-25",
         "WALLET",
         "SUCCESS",
         "Brandy Ramirez",
         "rogeralexander@example.org",
         "East",
         "Look",
         "Electronics",
         1509.44
        ],
        [
         681,
         1089,
         "1e4e0c6e-7bec-45ec-bb34-c3be8b5e5c9f",
         130.79,
         "2025-05-15T23:51:18.000Z",
         "2025-05-15",
         "CREDIT CARD",
         "SUCCESS",
         "Shane White",
         "andrewalexander@example.org",
         "South",
         "Gas",
         "Home",
         1791.78
        ],
        [
         636,
         1310,
         "8d463994-57ef-46a1-b838-e3090b15699e",
         480.07,
         "2025-07-18T06:40:46.000Z",
         "2025-07-18",
         "WALLET",
         "SUCCESS",
         "Courtney Porter MD",
         "carrierandolph@example.com",
         "West",
         "Ability",
         "Electronics",
         1130.71
        ],
        [
         510,
         1178,
         "abfa8c56-951e-47c0-a0ff-07fba2ca0375",
         47.24,
         "2025-06-23T15:31:59.000Z",
         "2025-06-23",
         "WALLET",
         "FRAUD",
         "Angel Burns",
         "larrylee@example.org",
         "South",
         "Record",
         "Clothing",
         316.97
        ],
        [
         516,
         1425,
         "cf7403ee-02ac-4109-9ed7-0abbc04449f4",
         83.98,
         "2025-03-28T00:29:48.000Z",
         "2025-03-28",
         "CREDIT CARD",
         "SUCCESS",
         "Tamara Hardin",
         "markyoung@example.net",
         "North",
         "Spring",
         "Books",
         282.68
        ],
        [
         522,
         1054,
         "1da5b8fd-21df-4076-b134-2e00ec4c2c2d",
         490.94,
         "2025-07-24T19:46:22.000Z",
         "2025-07-24",
         "CREDIT CARD",
         "SUCCESS",
         "Chelsea Brown",
         "scooley@example.com",
         "South",
         "Enter",
         "Clothing",
         846.96
        ],
        [
         630,
         1236,
         "b28a4475-6ca5-42c5-a26e-61408f7a0c4d",
         929.59,
         "2025-01-18T19:10:55.000Z",
         "2025-01-18",
         "CREDIT CARD",
         "FAILED",
         "Andrew Rojas",
         "danielconnor@example.org",
         "South",
         "Election",
         "Electronics",
         1592.58
        ],
        [
         646,
         1231,
         "38c445ec-c495-4199-bef9-942804f8bde6",
         242.63,
         "2025-09-04T15:46:12.000Z",
         "2025-09-04",
         "NET BANKING",
         "SUCCESS",
         "Adam Young",
         "jeffreysimon@example.org",
         "East",
         "Improve",
         "Books",
         1516.61
        ],
        [
         563,
         1078,
         "c1b3e587-e60a-491c-8697-d025c42c1674",
         212.97,
         "2025-06-17T13:42:42.000Z",
         "2025-06-17",
         "DEBIT CARD",
         "SUCCESS",
         "Joseph Anderson",
         "oaguilar@example.net",
         "South",
         "Car",
         "Home",
         71.43
        ],
        [
         528,
         1176,
         "be00a86f-a8ce-4965-83a9-c639761cbaaa",
         663.02,
         "2025-07-17T07:55:19.000Z",
         "2025-07-17",
         "CREDIT CARD",
         "FAILED",
         "Franklin Kim",
         "paynejennifer@example.net",
         "South",
         "Message",
         "Clothing",
         1164.36
        ]
       ],
       "datasetInfos": [
        {
         "name": "_sqldf",
         "schema": {
          "fields": [
           {
            "metadata": {},
            "name": "product_id",
            "nullable": true,
            "type": "integer"
           },
           {
            "metadata": {},
            "name": "customer_id",
            "nullable": true,
            "type": "integer"
           },
           {
            "metadata": {},
            "name": "transaction_id",
            "nullable": true,
            "type": "string"
           },
           {
            "metadata": {},
            "name": "amount",
            "nullable": true,
            "type": "double"
           },
           {
            "metadata": {},
            "name": "transaction_time",
            "nullable": true,
            "type": "timestamp"
           },
           {
            "metadata": {},
            "name": "Transcation_date",
            "nullable": true,
            "type": "date"
           },
           {
            "metadata": {},
            "name": "Payment_Types",
            "nullable": true,
            "type": "string"
           },
           {
            "metadata": {},
            "name": "status",
            "nullable": true,
            "type": "string"
           },
           {
            "metadata": {},
            "name": "customer_name",
            "nullable": true,
            "type": "string"
           },
           {
            "metadata": {},
            "name": "email",
            "nullable": true,
            "type": "string"
           },
           {
            "metadata": {},
            "name": "region",
            "nullable": true,
            "type": "string"
           },
           {
            "metadata": {},
            "name": "product_name",
            "nullable": true,
            "type": "string"
           },
           {
            "metadata": {},
            "name": "category",
            "nullable": true,
            "type": "string"
           },
           {
            "metadata": {},
            "name": "price",
            "nullable": true,
            "type": "double"
           }
          ],
          "type": "struct"
         },
         "tableIdentifier": null,
         "typeStr": "pyspark.sql.connect.dataframe.DataFrame"
        }
       ],
       "dbfsResultPath": null,
       "isJsonSchema": true,
       "metadata": {
        "createTempViewForImplicitDf": true,
        "dataframeName": "_sqldf",
        "executionCount": 67
       },
       "overflow": false,
       "plotOptions": {
        "customPlotOptions": {},
        "displayType": "table",
        "pivotAggregation": null,
        "pivotColumns": null,
        "xColumns": null,
        "yColumns": null
       },
       "removedWidgets": [],
       "schema": [
        {
         "metadata": "{}",
         "name": "product_id",
         "type": "\"integer\""
        },
        {
         "metadata": "{}",
         "name": "customer_id",
         "type": "\"integer\""
        },
        {
         "metadata": "{}",
         "name": "transaction_id",
         "type": "\"string\""
        },
        {
         "metadata": "{}",
         "name": "amount",
         "type": "\"double\""
        },
        {
         "metadata": "{}",
         "name": "transaction_time",
         "type": "\"timestamp\""
        },
        {
         "metadata": "{}",
         "name": "Transcation_date",
         "type": "\"date\""
        },
        {
         "metadata": "{}",
         "name": "Payment_Types",
         "type": "\"string\""
        },
        {
         "metadata": "{}",
         "name": "status",
         "type": "\"string\""
        },
        {
         "metadata": "{}",
         "name": "customer_name",
         "type": "\"string\""
        },
        {
         "metadata": "{}",
         "name": "email",
         "type": "\"string\""
        },
        {
         "metadata": "{}",
         "name": "region",
         "type": "\"string\""
        },
        {
         "metadata": "{}",
         "name": "product_name",
         "type": "\"string\""
        },
        {
         "metadata": "{}",
         "name": "category",
         "type": "\"string\""
        },
        {
         "metadata": "{}",
         "name": "price",
         "type": "\"double\""
        }
       ],
       "type": "table"
      }
     },
     "output_type": "display_data"
    }
   ],
   "source": [
    "%sql\n",
    "\n",
    "select * from delta.`/Volumes/workspace/e-commerce_dataset/ecommerce_dataset/fact_transactions/`\n",
    "limit 10"
   ]
  },
  {
   "cell_type": "code",
   "execution_count": 0,
   "metadata": {
    "application/vnd.databricks.v1+cell": {
     "cellMetadata": {
      "byteLimit": 2048000,
      "implicitDf": true,
      "rowLimit": 10000
     },
     "inputWidgets": {},
     "nuid": "2ddbb25a-97a0-422e-8423-c0e40b84418a",
     "showTitle": false,
     "tableResultSettingsMap": {},
     "title": ""
    }
   },
   "outputs": [],
   "source": [
    "%sql\n",
    "\n",
    "create or replace temporary view transcation_date_fact \n",
    "as\n",
    "select * from delta.`/Volumes/workspace/e-commerce_dataset/ecommerce_dataset/fact_transactions/`\n"
   ]
  },
  {
   "cell_type": "code",
   "execution_count": 0,
   "metadata": {
    "application/vnd.databricks.v1+cell": {
     "cellMetadata": {
      "byteLimit": 2048000,
      "implicitDf": true,
      "rowLimit": 10000
     },
     "inputWidgets": {},
     "nuid": "8a4a3cc9-e7a3-4122-a0f2-6158a6007b4f",
     "showTitle": false,
     "tableResultSettingsMap": {},
     "title": ""
    }
   },
   "outputs": [
    {
     "output_type": "display_data",
     "data": {
      "text/html": [
       "<style scoped>\n",
       "  .table-result-container {\n",
       "    max-height: 300px;\n",
       "    overflow: auto;\n",
       "  }\n",
       "  table, th, td {\n",
       "    border: 1px solid black;\n",
       "    border-collapse: collapse;\n",
       "  }\n",
       "  th, td {\n",
       "    padding: 5px;\n",
       "  }\n",
       "  th {\n",
       "    text-align: left;\n",
       "  }\n",
       "</style><div class='table-result-container'><table class='table-result'><thead style='background-color: white'><tr><th>status</th></tr></thead><tbody><tr><td>FRAUD</td></tr><tr><td>SUCCESS</td></tr><tr><td>FAILED</td></tr></tbody></table></div>"
      ]
     },
     "metadata": {
      "application/vnd.databricks.v1+output": {
       "addedWidgets": {},
       "aggData": [],
       "aggError": "",
       "aggOverflow": false,
       "aggSchema": [],
       "aggSeriesLimitReached": false,
       "aggType": "",
       "arguments": {},
       "columnCustomDisplayInfos": {},
       "data": [
        [
         "FRAUD"
        ],
        [
         "SUCCESS"
        ],
        [
         "FAILED"
        ]
       ],
       "datasetInfos": [
        {
         "name": "_sqldf",
         "schema": {
          "fields": [
           {
            "metadata": {},
            "name": "status",
            "nullable": true,
            "type": "string"
           }
          ],
          "type": "struct"
         },
         "tableIdentifier": null,
         "typeStr": "pyspark.sql.connect.dataframe.DataFrame"
        }
       ],
       "dbfsResultPath": null,
       "isJsonSchema": true,
       "metadata": {
        "createTempViewForImplicitDf": true,
        "dataframeName": "_sqldf",
        "executionCount": 69
       },
       "overflow": false,
       "plotOptions": {
        "customPlotOptions": {},
        "displayType": "table",
        "pivotAggregation": null,
        "pivotColumns": null,
        "xColumns": null,
        "yColumns": null
       },
       "removedWidgets": [],
       "schema": [
        {
         "metadata": "{}",
         "name": "status",
         "type": "\"string\""
        }
       ],
       "type": "table"
      }
     },
     "output_type": "display_data"
    }
   ],
   "source": [
    "%sql\n",
    "select distinct status from transcation_date_fact"
   ]
  },
  {
   "cell_type": "code",
   "execution_count": 0,
   "metadata": {
    "application/vnd.databricks.v1+cell": {
     "cellMetadata": {
      "byteLimit": 2048000,
      "implicitDf": true,
      "rowLimit": 10000
     },
     "inputWidgets": {},
     "nuid": "8809808b-178e-4841-8a80-f6da7efed965",
     "showTitle": false,
     "tableResultSettingsMap": {},
     "title": ""
    }
   },
   "outputs": [
    {
     "output_type": "display_data",
     "data": {
      "text/html": [
       "<style scoped>\n",
       "  .table-result-container {\n",
       "    max-height: 300px;\n",
       "    overflow: auto;\n",
       "  }\n",
       "  table, th, td {\n",
       "    border: 1px solid black;\n",
       "    border-collapse: collapse;\n",
       "  }\n",
       "  th, td {\n",
       "    padding: 5px;\n",
       "  }\n",
       "  th {\n",
       "    text-align: left;\n",
       "  }\n",
       "</style><div class='table-result-container'><table class='table-result'><thead style='background-color: white'><tr><th>region</th><th>suspicious_transcation</th></tr></thead><tbody><tr><td>West</td><td>132</td></tr><tr><td>East</td><td>119</td></tr><tr><td>North</td><td>146</td></tr><tr><td>South</td><td>133</td></tr></tbody></table></div>"
      ]
     },
     "metadata": {
      "application/vnd.databricks.v1+output": {
       "addedWidgets": {},
       "aggData": [],
       "aggError": "",
       "aggOverflow": false,
       "aggSchema": [],
       "aggSeriesLimitReached": false,
       "aggType": "",
       "arguments": {},
       "columnCustomDisplayInfos": {},
       "data": [
        [
         "West",
         132
        ],
        [
         "East",
         119
        ],
        [
         "North",
         146
        ],
        [
         "South",
         133
        ]
       ],
       "datasetInfos": [
        {
         "name": "_sqldf",
         "schema": {
          "fields": [
           {
            "metadata": {},
            "name": "region",
            "nullable": true,
            "type": "string"
           },
           {
            "metadata": {},
            "name": "suspicious_transcation",
            "nullable": false,
            "type": "long"
           }
          ],
          "type": "struct"
         },
         "tableIdentifier": null,
         "typeStr": "pyspark.sql.connect.dataframe.DataFrame"
        }
       ],
       "dbfsResultPath": null,
       "isJsonSchema": true,
       "metadata": {
        "createTempViewForImplicitDf": true,
        "dataframeName": "_sqldf",
        "executionCount": 70
       },
       "overflow": false,
       "plotOptions": {
        "customPlotOptions": {},
        "displayType": "table",
        "pivotAggregation": null,
        "pivotColumns": null,
        "xColumns": null,
        "yColumns": null
       },
       "removedWidgets": [],
       "schema": [
        {
         "metadata": "{}",
         "name": "region",
         "type": "\"string\""
        },
        {
         "metadata": "{}",
         "name": "suspicious_transcation",
         "type": "\"long\""
        }
       ],
       "type": "table"
      }
     },
     "output_type": "display_data"
    }
   ],
   "source": [
    "%sql\n",
    "\n",
    "-- Count of suspicious/fraud transactions (status = 'FRAUD') per region.\n",
    "\n",
    "select region, count(status) as suspicious_transcation \n",
    "from transcation_date_fact \n",
    "where status = 'FRAUD'\n",
    "group by 1"
   ]
  },
  {
   "cell_type": "code",
   "execution_count": 0,
   "metadata": {
    "application/vnd.databricks.v1+cell": {
     "cellMetadata": {
      "byteLimit": 2048000,
      "implicitDf": true,
      "rowLimit": 10000
     },
     "inputWidgets": {},
     "nuid": "47af2e2c-69fd-4f52-9ecd-f616b56986bf",
     "showTitle": false,
     "tableResultSettingsMap": {},
     "title": ""
    }
   },
   "outputs": [
    {
     "output_type": "display_data",
     "data": {
      "text/html": [
       "<style scoped>\n",
       "  .table-result-container {\n",
       "    max-height: 300px;\n",
       "    overflow: auto;\n",
       "  }\n",
       "  table, th, td {\n",
       "    border: 1px solid black;\n",
       "    border-collapse: collapse;\n",
       "  }\n",
       "  th, td {\n",
       "    padding: 5px;\n",
       "  }\n",
       "  th {\n",
       "    text-align: left;\n",
       "  }\n",
       "</style><div class='table-result-container'><table class='table-result'><thead style='background-color: white'><tr><th>category</th><th>region</th><th>total_revenue</th></tr></thead><tbody><tr><td>Clothing</td><td>West</td><td>342071.23</td></tr><tr><td>Clothing</td><td>South</td><td>306576.93</td></tr><tr><td>Electronics</td><td>East</td><td>210871.55</td></tr><tr><td>Books</td><td>South</td><td>212992.77</td></tr><tr><td>Home</td><td>South</td><td>220389.91</td></tr><tr><td>Books</td><td>East</td><td>190569.91</td></tr><tr><td>Sports</td><td>North</td><td>297671.38</td></tr><tr><td>Sports</td><td>South</td><td>255278.75</td></tr><tr><td>Sports</td><td>West</td><td>304794.41</td></tr><tr><td>Home</td><td>North</td><td>229059.78</td></tr><tr><td>Home</td><td>East</td><td>200861.65</td></tr><tr><td>Electronics</td><td>South</td><td>200795.57</td></tr><tr><td>Electronics</td><td>North</td><td>256561.57</td></tr><tr><td>Books</td><td>West</td><td>221559.1</td></tr><tr><td>Electronics</td><td>West</td><td>229015.0</td></tr><tr><td>Home</td><td>West</td><td>221575.35</td></tr><tr><td>Clothing</td><td>North</td><td>371821.58</td></tr><tr><td>Sports</td><td>East</td><td>258472.37</td></tr><tr><td>Books</td><td>North</td><td>222369.47</td></tr><tr><td>Clothing</td><td>East</td><td>312317.39</td></tr></tbody></table></div>"
      ]
     },
     "metadata": {
      "application/vnd.databricks.v1+output": {
       "addedWidgets": {},
       "aggData": [],
       "aggError": "",
       "aggOverflow": false,
       "aggSchema": [],
       "aggSeriesLimitReached": false,
       "aggType": "",
       "arguments": {},
       "columnCustomDisplayInfos": {},
       "data": [
        [
         "Clothing",
         "West",
         342071.23
        ],
        [
         "Clothing",
         "South",
         306576.93
        ],
        [
         "Electronics",
         "East",
         210871.55
        ],
        [
         "Books",
         "South",
         212992.77
        ],
        [
         "Home",
         "South",
         220389.91
        ],
        [
         "Books",
         "East",
         190569.91
        ],
        [
         "Sports",
         "North",
         297671.38
        ],
        [
         "Sports",
         "South",
         255278.75
        ],
        [
         "Sports",
         "West",
         304794.41
        ],
        [
         "Home",
         "North",
         229059.78
        ],
        [
         "Home",
         "East",
         200861.65
        ],
        [
         "Electronics",
         "South",
         200795.57
        ],
        [
         "Electronics",
         "North",
         256561.57
        ],
        [
         "Books",
         "West",
         221559.1
        ],
        [
         "Electronics",
         "West",
         229015.0
        ],
        [
         "Home",
         "West",
         221575.35
        ],
        [
         "Clothing",
         "North",
         371821.58
        ],
        [
         "Sports",
         "East",
         258472.37
        ],
        [
         "Books",
         "North",
         222369.47
        ],
        [
         "Clothing",
         "East",
         312317.39
        ]
       ],
       "datasetInfos": [
        {
         "name": "_sqldf",
         "schema": {
          "fields": [
           {
            "metadata": {},
            "name": "category",
            "nullable": true,
            "type": "string"
           },
           {
            "metadata": {},
            "name": "region",
            "nullable": true,
            "type": "string"
           },
           {
            "metadata": {},
            "name": "total_revenue",
            "nullable": true,
            "type": "double"
           }
          ],
          "type": "struct"
         },
         "tableIdentifier": null,
         "typeStr": "pyspark.sql.connect.dataframe.DataFrame"
        }
       ],
       "dbfsResultPath": null,
       "isJsonSchema": true,
       "metadata": {
        "createTempViewForImplicitDf": true,
        "dataframeName": "_sqldf",
        "executionCount": 71
       },
       "overflow": false,
       "plotOptions": {
        "customPlotOptions": {},
        "displayType": "table",
        "pivotAggregation": null,
        "pivotColumns": null,
        "xColumns": null,
        "yColumns": null
       },
       "removedWidgets": [],
       "schema": [
        {
         "metadata": "{}",
         "name": "category",
         "type": "\"string\""
        },
        {
         "metadata": "{}",
         "name": "region",
         "type": "\"string\""
        },
        {
         "metadata": "{}",
         "name": "total_revenue",
         "type": "\"double\""
        }
       ],
       "type": "table"
      }
     },
     "output_type": "display_data"
    }
   ],
   "source": [
    "%sql\n",
    "\n",
    "-- Total revenue (SUM(amount)) per product category and region.\n",
    "\n",
    "select category, region, round(sum(amount),2) as total_revenue\n",
    "from transcation_date_fact\n",
    "group by 1,2"
   ]
  },
  {
   "cell_type": "code",
   "execution_count": 0,
   "metadata": {
    "application/vnd.databricks.v1+cell": {
     "cellMetadata": {
      "byteLimit": 2048000,
      "implicitDf": true,
      "rowLimit": 10000
     },
     "inputWidgets": {},
     "nuid": "85e0632a-dae9-4b52-ae88-cab68322d47e",
     "showTitle": false,
     "tableResultSettingsMap": {},
     "title": ""
    }
   },
   "outputs": [
    {
     "output_type": "display_data",
     "data": {
      "text/html": [
       "<style scoped>\n",
       "  .table-result-container {\n",
       "    max-height: 300px;\n",
       "    overflow: auto;\n",
       "  }\n",
       "  table, th, td {\n",
       "    border: 1px solid black;\n",
       "    border-collapse: collapse;\n",
       "  }\n",
       "  th, td {\n",
       "    padding: 5px;\n",
       "  }\n",
       "  th {\n",
       "    text-align: left;\n",
       "  }\n",
       "</style><div class='table-result-container'><table class='table-result'><thead style='background-color: white'><tr><th>customer_name</th><th>total_spend</th></tr></thead><tbody><tr><td>Jason Smith</td><td>23105.0</td></tr><tr><td>Katherine Johnson</td><td>20151.0</td></tr><tr><td>Annette Johnson</td><td>20134.0</td></tr><tr><td>Madison Jackson MD</td><td>18598.0</td></tr><tr><td>Ryan Hernandez</td><td>18326.0</td></tr></tbody></table></div>"
      ]
     },
     "metadata": {
      "application/vnd.databricks.v1+output": {
       "addedWidgets": {},
       "aggData": [],
       "aggError": "",
       "aggOverflow": false,
       "aggSchema": [],
       "aggSeriesLimitReached": false,
       "aggType": "",
       "arguments": {},
       "columnCustomDisplayInfos": {},
       "data": [
        [
         "Jason Smith",
         23105.0
        ],
        [
         "Katherine Johnson",
         20151.0
        ],
        [
         "Annette Johnson",
         20134.0
        ],
        [
         "Madison Jackson MD",
         18598.0
        ],
        [
         "Ryan Hernandez",
         18326.0
        ]
       ],
       "datasetInfos": [
        {
         "name": "_sqldf",
         "schema": {
          "fields": [
           {
            "metadata": {},
            "name": "customer_name",
            "nullable": true,
            "type": "string"
           },
           {
            "metadata": {},
            "name": "total_spend",
            "nullable": true,
            "type": "double"
           }
          ],
          "type": "struct"
         },
         "tableIdentifier": null,
         "typeStr": "pyspark.sql.connect.dataframe.DataFrame"
        }
       ],
       "dbfsResultPath": null,
       "isJsonSchema": true,
       "metadata": {
        "createTempViewForImplicitDf": true,
        "dataframeName": "_sqldf",
        "executionCount": 72
       },
       "overflow": false,
       "plotOptions": {
        "customPlotOptions": {},
        "displayType": "table",
        "pivotAggregation": null,
        "pivotColumns": null,
        "xColumns": null,
        "yColumns": null
       },
       "removedWidgets": [],
       "schema": [
        {
         "metadata": "{}",
         "name": "customer_name",
         "type": "\"string\""
        },
        {
         "metadata": "{}",
         "name": "total_spend",
         "type": "\"double\""
        }
       ],
       "type": "table"
      }
     },
     "output_type": "display_data"
    }
   ],
   "source": [
    "%sql\n",
    "\n",
    "-- Top 5 customers by total spend.\n",
    "\n",
    "select customer_name, round(sum(amount)) as total_spend\n",
    "from transcation_date_fact\n",
    "group by 1\n",
    "order by 2 desc\n",
    "limit 5"
   ]
  },
  {
   "cell_type": "code",
   "execution_count": 0,
   "metadata": {
    "application/vnd.databricks.v1+cell": {
     "cellMetadata": {
      "byteLimit": 2048000,
      "implicitDf": true,
      "rowLimit": 10000
     },
     "inputWidgets": {},
     "nuid": "edfc23dd-be1f-4649-8fb8-22352171d242",
     "showTitle": false,
     "tableResultSettingsMap": {},
     "title": ""
    }
   },
   "outputs": [
    {
     "output_type": "display_data",
     "data": {
      "text/html": [
       "<style scoped>\n",
       "  .table-result-container {\n",
       "    max-height: 300px;\n",
       "    overflow: auto;\n",
       "  }\n",
       "  table, th, td {\n",
       "    border: 1px solid black;\n",
       "    border-collapse: collapse;\n",
       "  }\n",
       "  th, td {\n",
       "    padding: 5px;\n",
       "  }\n",
       "  th {\n",
       "    text-align: left;\n",
       "  }\n",
       "</style><div class='table-result-container'><table class='table-result'><thead style='background-color: white'><tr><th>Payment_Types</th><th>percentage</th></tr></thead><tbody><tr><td>WALLET</td><td>13.39</td></tr><tr><td>CASH ON DELIVERY</td><td>19.56</td></tr><tr><td>CREDIT CARD</td><td>19.87</td></tr><tr><td>DEBIT CARD</td><td>20.24</td></tr><tr><td>UPI</td><td>13.58</td></tr><tr><td>NET BANKING</td><td>13.36</td></tr></tbody></table></div>"
      ]
     },
     "metadata": {
      "application/vnd.databricks.v1+output": {
       "addedWidgets": {},
       "aggData": [],
       "aggError": "",
       "aggOverflow": false,
       "aggSchema": [],
       "aggSeriesLimitReached": false,
       "aggType": "",
       "arguments": {},
       "columnCustomDisplayInfos": {},
       "data": [
        [
         "WALLET",
         "13.39"
        ],
        [
         "CASH ON DELIVERY",
         "19.56"
        ],
        [
         "CREDIT CARD",
         "19.87"
        ],
        [
         "DEBIT CARD",
         "20.24"
        ],
        [
         "UPI",
         "13.58"
        ],
        [
         "NET BANKING",
         "13.36"
        ]
       ],
       "datasetInfos": [
        {
         "name": "_sqldf",
         "schema": {
          "fields": [
           {
            "metadata": {},
            "name": "Payment_Types",
            "nullable": true,
            "type": "string"
           },
           {
            "metadata": {},
            "name": "percentage",
            "nullable": true,
            "type": "decimal(27,2)"
           }
          ],
          "type": "struct"
         },
         "tableIdentifier": null,
         "typeStr": "pyspark.sql.connect.dataframe.DataFrame"
        }
       ],
       "dbfsResultPath": null,
       "isJsonSchema": true,
       "metadata": {
        "createTempViewForImplicitDf": true,
        "dataframeName": "_sqldf",
        "executionCount": 73
       },
       "overflow": false,
       "plotOptions": {
        "customPlotOptions": {},
        "displayType": "table",
        "pivotAggregation": null,
        "pivotColumns": null,
        "xColumns": null,
        "yColumns": null
       },
       "removedWidgets": [],
       "schema": [
        {
         "metadata": "{}",
         "name": "Payment_Types",
         "type": "\"string\""
        },
        {
         "metadata": "{}",
         "name": "percentage",
         "type": "\"decimal(27,2)\""
        }
       ],
       "type": "table"
      }
     },
     "output_type": "display_data"
    }
   ],
   "source": [
    "%sql\n",
    "\n",
    "-- Percentage of transactions by payment_type (normalized → CREDIT_CARD, DEBIT_CARD, UPI, NET_BANKING, WALLET):\n",
    "\n",
    "select Payment_Types, round(count(*)*100.0/sum(count(*)) over(),2) as percentage\n",
    "from transcation_date_fact\n",
    "group by 1"
   ]
  },
  {
   "cell_type": "code",
   "execution_count": 0,
   "metadata": {
    "application/vnd.databricks.v1+cell": {
     "cellMetadata": {},
     "inputWidgets": {},
     "nuid": "a7ecd0bf-a593-466b-a17c-d21caa0c3a5a",
     "showTitle": false,
     "tableResultSettingsMap": {},
     "title": ""
    }
   },
   "outputs": [],
   "source": []
  }
 ],
 "metadata": {
  "application/vnd.databricks.v1+notebook": {
   "computePreferences": null,
   "dashboards": [],
   "environmentMetadata": {
    "base_environment": "",
    "environment_version": "3"
   },
   "inputWidgetPreferences": null,
   "language": "python",
   "notebookMetadata": {
    "mostRecentlyExecutedCommandWithImplicitDF": {
     "commandId": 6216167421810031,
     "dataframes": [
      "_sqldf"
     ]
    },
    "pythonIndentUnit": 4
   },
   "notebookName": "E-Commerce Transactions Data Pipeline",
   "widgets": {}
  },
  "language_info": {
   "name": "python"
  }
 },
 "nbformat": 4,
 "nbformat_minor": 0
}